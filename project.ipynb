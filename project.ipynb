{
  "nbformat": 4,
  "nbformat_minor": 0,
  "metadata": {
    "colab": {
      "name": "project.ipynb",
      "provenance": [],
      "collapsed_sections": [],
      "toc_visible": true
    },
    "kernelspec": {
      "name": "python3",
      "display_name": "Python 3"
    }
  },
  "cells": [
    {
      "cell_type": "markdown",
      "metadata": {
        "id": "OJkWaeFcLf78"
      },
      "source": [
        "# Load Package"
      ]
    },
    {
      "cell_type": "code",
      "metadata": {
        "colab": {
          "base_uri": "https://localhost:8080/"
        },
        "id": "7VINw8GPLiYh",
        "outputId": "8bb68d2c-b250-44a5-9147-f875d06240f4"
      },
      "source": [
        "!pip install -U scikit-learn\n",
        "!pip install surprise\n",
        "!pip install networkx\n",
        "import pandas as pd\n",
        "import numpy as np\n",
        "import seaborn as sns\n",
        "import random\n",
        "import matplotlib.pyplot as plt\n",
        "import scipy\n",
        "import sklearn\n",
        "from sklearn.metrics import classification_report, confusion_matrix\n",
        "from sklearn.ensemble import RandomForestClassifier\n",
        "from sklearn.model_selection import train_test_split\n",
        "from sklearn import metrics\n",
        "from tqdm import tqdm\n",
        "import warnings\n",
        "import networkx as nx\n",
        "warnings.filterwarnings('ignore')\n",
        "from surprise import SVD, SVDpp, SlopeOne, NMF, NormalPredictor, KNNBaseline, KNNBasic, KNNWithMeans, KNNWithZScore, BaselineOnly, CoClustering\n",
        "from surprise.model_selection import cross_validate\n",
        "from surprise import NormalPredictor\n",
        "from surprise import Dataset\n",
        "from surprise import Reader"
      ],
      "execution_count": 17,
      "outputs": [
        {
          "output_type": "stream",
          "text": [
            "Requirement already up-to-date: scikit-learn in /usr/local/lib/python3.6/dist-packages (0.23.2)\n",
            "Requirement already satisfied, skipping upgrade: numpy>=1.13.3 in /usr/local/lib/python3.6/dist-packages (from scikit-learn) (1.18.5)\n",
            "Requirement already satisfied, skipping upgrade: threadpoolctl>=2.0.0 in /usr/local/lib/python3.6/dist-packages (from scikit-learn) (2.1.0)\n",
            "Requirement already satisfied, skipping upgrade: scipy>=0.19.1 in /usr/local/lib/python3.6/dist-packages (from scikit-learn) (1.4.1)\n",
            "Requirement already satisfied, skipping upgrade: joblib>=0.11 in /usr/local/lib/python3.6/dist-packages (from scikit-learn) (0.17.0)\n",
            "Requirement already satisfied: surprise in /usr/local/lib/python3.6/dist-packages (0.1)\n",
            "Requirement already satisfied: scikit-surprise in /usr/local/lib/python3.6/dist-packages (from surprise) (1.1.1)\n",
            "Requirement already satisfied: scipy>=1.0.0 in /usr/local/lib/python3.6/dist-packages (from scikit-surprise->surprise) (1.4.1)\n",
            "Requirement already satisfied: numpy>=1.11.2 in /usr/local/lib/python3.6/dist-packages (from scikit-surprise->surprise) (1.18.5)\n",
            "Requirement already satisfied: joblib>=0.11 in /usr/local/lib/python3.6/dist-packages (from scikit-surprise->surprise) (0.17.0)\n",
            "Requirement already satisfied: six>=1.10.0 in /usr/local/lib/python3.6/dist-packages (from scikit-surprise->surprise) (1.15.0)\n",
            "Requirement already satisfied: networkx in /usr/local/lib/python3.6/dist-packages (2.5)\n",
            "Requirement already satisfied: decorator>=4.3.0 in /usr/local/lib/python3.6/dist-packages (from networkx) (4.4.2)\n"
          ],
          "name": "stdout"
        }
      ]
    },
    {
      "cell_type": "markdown",
      "metadata": {
        "id": "bogLOnXmLa-T"
      },
      "source": [
        "# Load Data"
      ]
    },
    {
      "cell_type": "code",
      "metadata": {
        "id": "_Vpawx_5LVEY"
      },
      "source": [
        "ratings_Digital_Music= pd.read_csv('ratings_Digital_Music.csv', names=[\"user\",\"item\",\"rating\",\"timestamp\"])"
      ],
      "execution_count": 28,
      "outputs": []
    },
    {
      "cell_type": "code",
      "metadata": {
        "id": "H3cBKJOcL_8N",
        "colab": {
          "base_uri": "https://localhost:8080/",
          "height": 195
        },
        "outputId": "d21d0f45-8823-4c91-8c92-a53f79f4f6ee"
      },
      "source": [
        "ratings_Digital_Music.head()"
      ],
      "execution_count": 29,
      "outputs": [
        {
          "output_type": "execute_result",
          "data": {
            "text/html": [
              "<div>\n",
              "<style scoped>\n",
              "    .dataframe tbody tr th:only-of-type {\n",
              "        vertical-align: middle;\n",
              "    }\n",
              "\n",
              "    .dataframe tbody tr th {\n",
              "        vertical-align: top;\n",
              "    }\n",
              "\n",
              "    .dataframe thead th {\n",
              "        text-align: right;\n",
              "    }\n",
              "</style>\n",
              "<table border=\"1\" class=\"dataframe\">\n",
              "  <thead>\n",
              "    <tr style=\"text-align: right;\">\n",
              "      <th></th>\n",
              "      <th>user</th>\n",
              "      <th>item</th>\n",
              "      <th>rating</th>\n",
              "      <th>timestamp</th>\n",
              "    </tr>\n",
              "  </thead>\n",
              "  <tbody>\n",
              "    <tr>\n",
              "      <th>0</th>\n",
              "      <td>A2EFCYXHNK06IS</td>\n",
              "      <td>5555991584</td>\n",
              "      <td>5.0</td>\n",
              "      <td>978480000</td>\n",
              "    </tr>\n",
              "    <tr>\n",
              "      <th>1</th>\n",
              "      <td>A1WR23ER5HMAA9</td>\n",
              "      <td>5555991584</td>\n",
              "      <td>5.0</td>\n",
              "      <td>953424000</td>\n",
              "    </tr>\n",
              "    <tr>\n",
              "      <th>2</th>\n",
              "      <td>A2IR4Q0GPAFJKW</td>\n",
              "      <td>5555991584</td>\n",
              "      <td>4.0</td>\n",
              "      <td>1393545600</td>\n",
              "    </tr>\n",
              "    <tr>\n",
              "      <th>3</th>\n",
              "      <td>A2V0KUVAB9HSYO</td>\n",
              "      <td>5555991584</td>\n",
              "      <td>4.0</td>\n",
              "      <td>966124800</td>\n",
              "    </tr>\n",
              "    <tr>\n",
              "      <th>4</th>\n",
              "      <td>A1J0GL9HCA7ELW</td>\n",
              "      <td>5555991584</td>\n",
              "      <td>5.0</td>\n",
              "      <td>1007683200</td>\n",
              "    </tr>\n",
              "  </tbody>\n",
              "</table>\n",
              "</div>"
            ],
            "text/plain": [
              "             user        item  rating   timestamp\n",
              "0  A2EFCYXHNK06IS  5555991584     5.0   978480000\n",
              "1  A1WR23ER5HMAA9  5555991584     5.0   953424000\n",
              "2  A2IR4Q0GPAFJKW  5555991584     4.0  1393545600\n",
              "3  A2V0KUVAB9HSYO  5555991584     4.0   966124800\n",
              "4  A1J0GL9HCA7ELW  5555991584     5.0  1007683200"
            ]
          },
          "metadata": {
            "tags": []
          },
          "execution_count": 29
        }
      ]
    },
    {
      "cell_type": "code",
      "metadata": {
        "colab": {
          "base_uri": "https://localhost:8080/"
        },
        "id": "saATVELgMBmg",
        "outputId": "b3a03c69-385c-44ed-9005-239fe2cceb9d"
      },
      "source": [
        "print(\"There are {} users, {} ratings, {} items.\".format(len(ratings_Digital_Music[\"user\"].unique()), ratings_Digital_Music.shape[0], len(ratings_Digital_Music[\"item\"].unique())))"
      ],
      "execution_count": 30,
      "outputs": [
        {
          "output_type": "stream",
          "text": [
            "There are 478235 users, 836006 ratings, 266414 items.\n"
          ],
          "name": "stdout"
        }
      ]
    },
    {
      "cell_type": "code",
      "metadata": {
        "colab": {
          "base_uri": "https://localhost:8080/",
          "height": 195
        },
        "id": "cGOiCB5JzP-Y",
        "outputId": "0fa47fa4-b044-42ad-a8f1-b4b4b551e269"
      },
      "source": [
        "user_count = pd.DataFrame(ratings_Digital_Music.value_counts(subset=[\"user\"]), columns=[\"count\"])\n",
        "user_count.reset_index(drop=False, inplace=True)\n",
        "user_count.head()"
      ],
      "execution_count": 31,
      "outputs": [
        {
          "output_type": "execute_result",
          "data": {
            "text/html": [
              "<div>\n",
              "<style scoped>\n",
              "    .dataframe tbody tr th:only-of-type {\n",
              "        vertical-align: middle;\n",
              "    }\n",
              "\n",
              "    .dataframe tbody tr th {\n",
              "        vertical-align: top;\n",
              "    }\n",
              "\n",
              "    .dataframe thead th {\n",
              "        text-align: right;\n",
              "    }\n",
              "</style>\n",
              "<table border=\"1\" class=\"dataframe\">\n",
              "  <thead>\n",
              "    <tr style=\"text-align: right;\">\n",
              "      <th></th>\n",
              "      <th>user</th>\n",
              "      <th>count</th>\n",
              "    </tr>\n",
              "  </thead>\n",
              "  <tbody>\n",
              "    <tr>\n",
              "      <th>0</th>\n",
              "      <td>A3W4D8XOGLWUN5</td>\n",
              "      <td>1126</td>\n",
              "    </tr>\n",
              "    <tr>\n",
              "      <th>1</th>\n",
              "      <td>A9Q28YTLYREO7</td>\n",
              "      <td>713</td>\n",
              "    </tr>\n",
              "    <tr>\n",
              "      <th>2</th>\n",
              "      <td>ABDR6IJ93HFIO</td>\n",
              "      <td>489</td>\n",
              "    </tr>\n",
              "    <tr>\n",
              "      <th>3</th>\n",
              "      <td>A3HU0B9XUEVHIM</td>\n",
              "      <td>471</td>\n",
              "    </tr>\n",
              "    <tr>\n",
              "      <th>4</th>\n",
              "      <td>A1GN8UJIZLCA59</td>\n",
              "      <td>427</td>\n",
              "    </tr>\n",
              "  </tbody>\n",
              "</table>\n",
              "</div>"
            ],
            "text/plain": [
              "             user  count\n",
              "0  A3W4D8XOGLWUN5   1126\n",
              "1   A9Q28YTLYREO7    713\n",
              "2   ABDR6IJ93HFIO    489\n",
              "3  A3HU0B9XUEVHIM    471\n",
              "4  A1GN8UJIZLCA59    427"
            ]
          },
          "metadata": {
            "tags": []
          },
          "execution_count": 31
        }
      ]
    },
    {
      "cell_type": "code",
      "metadata": {
        "id": "EVvmkWR31ylL"
      },
      "source": [
        "valid_user100 = user_count[user_count[\"count\"] >= 100].user.tolist()\n",
        "valid_user40 = user_count[user_count[\"count\"] >= 40].user.tolist()"
      ],
      "execution_count": 32,
      "outputs": []
    },
    {
      "cell_type": "code",
      "metadata": {
        "colab": {
          "base_uri": "https://localhost:8080/",
          "height": 195
        },
        "id": "4OxYU4I5vWtQ",
        "outputId": "c7bf7544-bbe2-4366-901a-10ab0c8476c3"
      },
      "source": [
        "song_count = pd.DataFrame(ratings_Digital_Music.value_counts(subset=[\"item\"]), columns=[\"count\"])\n",
        "song_count.reset_index(drop=False, inplace=True)\n",
        "song_count.head()"
      ],
      "execution_count": 33,
      "outputs": [
        {
          "output_type": "execute_result",
          "data": {
            "text/html": [
              "<div>\n",
              "<style scoped>\n",
              "    .dataframe tbody tr th:only-of-type {\n",
              "        vertical-align: middle;\n",
              "    }\n",
              "\n",
              "    .dataframe tbody tr th {\n",
              "        vertical-align: top;\n",
              "    }\n",
              "\n",
              "    .dataframe thead th {\n",
              "        text-align: right;\n",
              "    }\n",
              "</style>\n",
              "<table border=\"1\" class=\"dataframe\">\n",
              "  <thead>\n",
              "    <tr style=\"text-align: right;\">\n",
              "      <th></th>\n",
              "      <th>item</th>\n",
              "      <th>count</th>\n",
              "    </tr>\n",
              "  </thead>\n",
              "  <tbody>\n",
              "    <tr>\n",
              "      <th>0</th>\n",
              "      <td>B004D1GZ2E</td>\n",
              "      <td>1953</td>\n",
              "    </tr>\n",
              "    <tr>\n",
              "      <th>1</th>\n",
              "      <td>B0026P3G12</td>\n",
              "      <td>1926</td>\n",
              "    </tr>\n",
              "    <tr>\n",
              "      <th>2</th>\n",
              "      <td>B0000AGWEC</td>\n",
              "      <td>1823</td>\n",
              "    </tr>\n",
              "    <tr>\n",
              "      <th>3</th>\n",
              "      <td>B004K4AUZW</td>\n",
              "      <td>1527</td>\n",
              "    </tr>\n",
              "    <tr>\n",
              "      <th>4</th>\n",
              "      <td>B000BGR18W</td>\n",
              "      <td>1386</td>\n",
              "    </tr>\n",
              "  </tbody>\n",
              "</table>\n",
              "</div>"
            ],
            "text/plain": [
              "         item  count\n",
              "0  B004D1GZ2E   1953\n",
              "1  B0026P3G12   1926\n",
              "2  B0000AGWEC   1823\n",
              "3  B004K4AUZW   1527\n",
              "4  B000BGR18W   1386"
            ]
          },
          "metadata": {
            "tags": []
          },
          "execution_count": 33
        }
      ]
    },
    {
      "cell_type": "code",
      "metadata": {
        "id": "LO6qbZbKvnbl"
      },
      "source": [
        "valid_song100 = song_count[song_count[\"count\"] >= 500].item.tolist()\n",
        "valid_song40 = song_count[song_count[\"count\"] >= 200].item.tolist()"
      ],
      "execution_count": 34,
      "outputs": []
    },
    {
      "cell_type": "markdown",
      "metadata": {
        "id": "nkJv7VsSwp4_"
      },
      "source": [
        "# Simplify Data"
      ]
    },
    {
      "cell_type": "code",
      "metadata": {
        "colab": {
          "base_uri": "https://localhost:8080/"
        },
        "id": "GJhfwWYcw1bv",
        "outputId": "293261ed-a6c6-4ae5-849d-11cfd9dec977"
      },
      "source": [
        "rating_sample = ratings_Digital_Music.sample(frac=0.025, replace=False, random_state=1)\n",
        "# rating_sample = rating_sample[rating_sample[\"item\"].isin(valid_song40)]\n",
        "rating_sample.reset_index(drop=True, inplace=True)\n",
        "print(\"There are {} users, {} ratings, {} items.\".format(len(rating_sample[\"user\"].unique()), rating_sample.shape[0], len(rating_sample[\"item\"].unique())))"
      ],
      "execution_count": 35,
      "outputs": [
        {
          "output_type": "stream",
          "text": [
            "There are 19524 users, 20900 ratings, 14946 items.\n"
          ],
          "name": "stdout"
        }
      ]
    },
    {
      "cell_type": "code",
      "metadata": {
        "id": "E2MJPUdZ2mJ6"
      },
      "source": [
        "rating_small = ratings_Digital_Music[ratings_Digital_Music[\"user\"].isin(valid_user100)]\n",
        "rating_dense = rating_small.copy()\n",
        "rating_dense = rating_dense[rating_dense[\"item\"].isin(valid_song100)]\n",
        "rating_large = ratings_Digital_Music[ratings_Digital_Music[\"user\"].isin(valid_user40)]\n",
        "rating_sparse = rating_large.copy()\n",
        "rating_sparse = rating_sparse[rating_sparse[\"item\"].isin(valid_song40)]"
      ],
      "execution_count": 43,
      "outputs": []
    },
    {
      "cell_type": "code",
      "metadata": {
        "id": "8Tm-r0Wn2_lB",
        "colab": {
          "base_uri": "https://localhost:8080/"
        },
        "outputId": "487552c6-8878-4aab-e1c7-270d93cc508a"
      },
      "source": [
        "rating_small.reset_index(drop=True, inplace=True)\n",
        "rating_dense.reset_index(drop=True, inplace=True)\n",
        "rating_large.reset_index(drop=True, inplace=True)\n",
        "rating_sparse.reset_index(drop=True, inplace=True)\n",
        "print(\"There are {} users, {} ratings, {} items.\".format(len(rating_small[\"user\"].unique()), rating_small.shape[0], len(rating_small[\"item\"].unique())))\n",
        "print(\"There are {} users, {} ratings, {} items.\".format(len(rating_dense[\"user\"].unique()), rating_dense.shape[0], len(rating_dense[\"item\"].unique())))\n",
        "print(\"There are {} users, {} ratings, {} items.\".format(len(rating_large[\"user\"].unique()), rating_large.shape[0], len(rating_large[\"item\"].unique())))\n",
        "print(\"There are {} users, {} ratings, {} items.\".format(len(rating_sparse[\"user\"].unique()), rating_sparse.shape[0], len(rating_sparse[\"item\"].unique())))"
      ],
      "execution_count": 44,
      "outputs": [
        {
          "output_type": "stream",
          "text": [
            "There are 100 users, 18217 ratings, 11961 items.\n",
            "There are 67 users, 400 ratings, 53 items.\n",
            "There are 515 users, 41486 ratings, 24025 items.\n",
            "There are 378 users, 4235 ratings, 303 items.\n"
          ],
          "name": "stdout"
        }
      ]
    },
    {
      "cell_type": "markdown",
      "metadata": {
        "id": "fG_-e3meNWcn"
      },
      "source": [
        "# Using Surprise Package"
      ]
    },
    {
      "cell_type": "code",
      "metadata": {
        "colab": {
          "base_uri": "https://localhost:8080/"
        },
        "id": "8AQL7PKCMjiC",
        "outputId": "16fb8aad-2be0-4f20-c6c0-b7368eb2d177"
      },
      "source": [
        "df_set = [rating_sample, rating_small, rating_large]\n",
        "df_name = [\"rating_sample\", \"rating_small\", \"rating_large\"]\n",
        "for p in range(len(df_set)):\n",
        "  print(\"Method: {}\".format(df_name[p]))\n",
        "  selected_data = df_set[p]\n",
        "  reader = Reader(rating_scale=(1, 5))\n",
        "  data = Dataset.load_from_df(selected_data[[\"user\",\"item\",\"rating\"]], reader)\n",
        "\n",
        "  dataset = data.build_full_trainset()\n",
        "  from surprise.model_selection import train_test_split\n",
        "  X_train, X_test = train_test_split(data, test_size=0.25)\n",
        "\n",
        "  selected_algorithm = [SVD(), SVDpp(), KNNBaseline(), KNNWithZScore()]\n",
        "  algorithm_name = ['SVD', 'SVDpp()', 'KNNBaseline()', 'KNNWithZScore()']\n",
        "\n",
        "  from surprise import accuracy\n",
        "  reader = Reader(rating_scale=(1, 5))\n",
        "  trainset = X_train\n",
        "  testset = X_test\n",
        "  for i in range(len(selected_algorithm)):\n",
        "    algo = selected_algorithm[i]\n",
        "    name = algorithm_name[i]\n",
        "    predictions = algo.fit(trainset).test(testset)\n",
        "    print('{} has MAE {}'.format(name, accuracy.mae(predictions)))"
      ],
      "execution_count": 45,
      "outputs": [
        {
          "output_type": "stream",
          "text": [
            "Method: rating_sample\n",
            "MAE:  0.6691\n",
            "SVD has MAE 0.6690684940653835\n",
            "MAE:  0.6677\n",
            "SVDpp() has MAE 0.6676796774889613\n",
            "Estimating biases using als...\n",
            "Computing the msd similarity matrix...\n",
            "Done computing similarity matrix.\n",
            "MAE:  0.6704\n",
            "KNNBaseline() has MAE 0.6704250740902837\n",
            "Computing the msd similarity matrix...\n",
            "Done computing similarity matrix.\n",
            "MAE:  0.6751\n",
            "KNNWithZScore() has MAE 0.6751222017636523\n",
            "Method: rating_small\n",
            "MAE:  0.5902\n",
            "SVD has MAE 0.5901670616364287\n",
            "MAE:  0.5849\n",
            "SVDpp() has MAE 0.5849114293853507\n",
            "Estimating biases using als...\n",
            "Computing the msd similarity matrix...\n",
            "Done computing similarity matrix.\n",
            "MAE:  0.6144\n",
            "KNNBaseline() has MAE 0.6144179103095413\n",
            "Computing the msd similarity matrix...\n",
            "Done computing similarity matrix.\n",
            "MAE:  0.7470\n",
            "KNNWithZScore() has MAE 0.7470262390847098\n",
            "Method: rating_large\n",
            "MAE:  0.5426\n",
            "SVD has MAE 0.5426486596806863\n",
            "MAE:  0.5309\n",
            "SVDpp() has MAE 0.5308948954241041\n",
            "Estimating biases using als...\n",
            "Computing the msd similarity matrix...\n",
            "Done computing similarity matrix.\n",
            "MAE:  0.5726\n",
            "KNNBaseline() has MAE 0.5725585610051287\n",
            "Computing the msd similarity matrix...\n",
            "Done computing similarity matrix.\n",
            "MAE:  0.6874\n",
            "KNNWithZScore() has MAE 0.6873828133935936\n"
          ],
          "name": "stdout"
        }
      ]
    },
    {
      "cell_type": "markdown",
      "metadata": {
        "id": "-rhIybc1RiL3"
      },
      "source": [
        "# Using SVD"
      ]
    },
    {
      "cell_type": "code",
      "metadata": {
        "id": "y75OfgIsSVjs"
      },
      "source": [
        "# https://zhuanlan.zhihu.com/p/94340100\n",
        "def compute_svd(M, K):\n",
        "  u, s, vh = np.linalg.svd(M, full_matrices=True)\n",
        "  u1 = np.transpose(u)\n",
        "  u1 = u1[0:K]\n",
        "  u1 = np.transpose(u1)\n",
        "  v1 = vh[0:K]\n",
        "  s1 = np.zeros((K,K))\n",
        "  # print(M.shape, u1.shape, s1.shape, v1.shape)\n",
        "  for i in range(K):\n",
        "    s1[i][i] = s[i]\n",
        "\n",
        "  ss = np.zeros((u.shape[1], vh.shape[0]))\n",
        "  for i in range(min(u.shape[1], vh.shape[0])):\n",
        "    ss[i][i] = s[i]\n",
        "  a = np.dot(np.dot(u1, s1), v1)\n",
        "  aa = np.dot(np.dot(u, ss), vh)\n",
        "  # print(sum(sum(M)))\n",
        "  # print(sum(sum(a)))\n",
        "  # print(sum(sum(aa)))\n",
        "  return a\n",
        "\n",
        "def check_change(origin_matrix, new_matrix):\n",
        "  thre = 0.5\n",
        "  sb = np.subtract(origin_matrix, new_matrix)\n",
        "  rst = abs(sum(sum(sb)))\n",
        "  # print(\"cur_error is {}.\".format(rst))\n",
        "  return rst > thre\n",
        "\n"
      ],
      "execution_count": 46,
      "outputs": []
    },
    {
      "cell_type": "code",
      "metadata": {
        "id": "NtN_MPS5PAuN",
        "colab": {
          "base_uri": "https://localhost:8080/"
        },
        "outputId": "5fa3266a-48cd-4a64-f7f5-2e1a10a78a11"
      },
      "source": [
        "from scipy.sparse import coo_matrix\n",
        "import math as mt\n",
        "from scipy.sparse.linalg import * #used for matrix multiplication\n",
        "from scipy.sparse.linalg import svds\n",
        "from scipy.sparse import csc_matrix\n",
        "\n",
        "df_set = [rating_sparse, rating_dense]\n",
        "df_name = [\"rating_sparse\", \"rating_dense\"]\n",
        "\n",
        "for p in range(len(df_set)):\n",
        "  small_set = df_set[p]\n",
        "  user_codes = small_set.user.drop_duplicates().reset_index()\n",
        "  song_codes = small_set.item.drop_duplicates().reset_index()\n",
        "\n",
        "  user_codes.rename(columns={'index':'user_index'}, inplace=True)\n",
        "  song_codes.rename(columns={'index':'song_index'}, inplace=True)\n",
        "  \n",
        "  song_codes['so_index_value'] = list(song_codes.index)\n",
        "  user_codes['us_index_value'] = list(user_codes.index)\n",
        "\n",
        "  small_set = pd.merge(small_set,song_codes,how='left')\n",
        "  small_set = pd.merge(small_set,user_codes,how='left')\n",
        "\n",
        "  mat_candidate = small_set[['us_index_value','so_index_value','rating']]\n",
        "\n",
        "\n",
        "  df = mat_candidate.copy()\n",
        "\n",
        "  transform_matrix = np.zeros((len(user_codes), len(song_codes)))\n",
        "  for i in range(df.shape[0]):\n",
        "    transform_matrix[df['us_index_value'][i]][df['so_index_value'][i]] = df['rating'][i]\n",
        "  origin_matrix = transform_matrix.copy()\n",
        "  test_idx = random.sample(list(range(df.shape[0])), int(df.shape[0]*0.2))\n",
        "  for i in range(len(test_idx)):\n",
        "    origin_matrix[df['us_index_value'][i]][df['so_index_value'][i]] = 0\n",
        "\n",
        "  K = 15\n",
        "  runtime = 300\n",
        "  svd_matrix = compute_svd(origin_matrix, K)\n",
        "  new_matrix = origin_matrix.copy()\n",
        "  for i in range(len(test_idx)):\n",
        "    new_matrix[df['us_index_value'][i]][df['so_index_value'][i]] = svd_matrix[df['us_index_value'][i]][df['so_index_value'][i]]\n",
        "  for cnt in range(runtime):\n",
        "    svd_matrix = compute_svd(new_matrix, K)\n",
        "    new_matrix = origin_matrix.copy()\n",
        "    for i in range(len(test_idx)):\n",
        "      new_matrix[df['us_index_value'][i]][df['so_index_value'][i]] = svd_matrix[df['us_index_value'][i]][df['so_index_value'][i]]\n",
        "\n",
        "  mae = 0\n",
        "  count = 0\n",
        "\n",
        "  for i in range(len(test_idx)):\n",
        "    mae += transform_matrix[df['us_index_value'][i]][df['so_index_value'][i]] - new_matrix[df['us_index_value'][i]][df['so_index_value'][i]]\n",
        "    count += 1\n",
        "  mae /= count\n",
        "  print(\"{} has MAE {}\".format(df_name[p], mae))"
      ],
      "execution_count": 47,
      "outputs": [
        {
          "output_type": "stream",
          "text": [
            "rating_sparse has MAE 4.57512600781347\n",
            "rating_dense has MAE 4.434284771028779\n"
          ],
          "name": "stdout"
        }
      ]
    },
    {
      "cell_type": "code",
      "metadata": {
        "id": "4mh0SXK9Reef"
      },
      "source": [
        "# https://www.jianshu.com/p/4e2b20333d38\n",
        "from numpy import linalg as la\n",
        "def cosSim(inA, inB):\n",
        "    # print(np.dot(inA.T, inB))\n",
        "    num = float(np.dot(inA.T, inB))\n",
        "    denom = la.norm(inA) * la.norm(inB)\n",
        "    return 0.5 + 0.5 * (num / denom)\n",
        "\n",
        "def sigmaPct(sigma, percentage):\n",
        "    sigma2 = sigma ** 2  \n",
        "    sumsgm2 = sum(sigma2)  \n",
        "    thre = sumsgm2 * percentage\n",
        "    sumsgm3 = 0 \n",
        "    k = 0\n",
        "    for i in sigma2:\n",
        "        sumsgm3 += i\n",
        "        k += 1\n",
        "        if sumsgm3 >= thre:\n",
        "            return k\n",
        "    return k\n",
        "\n",
        "\n",
        "def svdEst(dataMat, user, simMeas, item, percentage):\n",
        "    n = dataMat.shape[1]\n",
        "    simTotal = 0.0;\n",
        "    ratSimTotal = 0.0\n",
        "    u, sigma, vt = la.svd(dataMat)\n",
        "    k = sigmaPct(sigma, percentage)  \n",
        "    xformedItems = compute_svd(dataMat, k)\n",
        "    # print(dataMat.shape, xformedItems.shape)\n",
        "    for j in range(n):\n",
        "        userRating = dataMat[user, j]\n",
        "        if userRating == 0 or j == item: continue\n",
        "        similarity = simMeas(xformedItems.T[item], xformedItems.T[j])  \n",
        "        simTotal += similarity  \n",
        "        ratSimTotal += similarity * userRating  \n",
        "    if simTotal == 0:\n",
        "        return 0\n",
        "    else:\n",
        "        return ratSimTotal / simTotal "
      ],
      "execution_count": 48,
      "outputs": []
    },
    {
      "cell_type": "code",
      "metadata": {
        "colab": {
          "base_uri": "https://localhost:8080/"
        },
        "id": "o-amCWprQ4vJ",
        "outputId": "db31107e-94a7-4b05-ea4c-28e52b14afe1"
      },
      "source": [
        "df_set = [rating_sparse, rating_dense]\n",
        "df_name = [\"rating_sparse\", \"rating_dense\"]\n",
        "\n",
        "for p in range(len(df_set)):\n",
        "  small_set = df_set[p]\n",
        "  user_codes = small_set.user.drop_duplicates().reset_index()\n",
        "  song_codes = small_set.item.drop_duplicates().reset_index()\n",
        "\n",
        "  user_codes.rename(columns={'index':'user_index'}, inplace=True)\n",
        "  song_codes.rename(columns={'index':'song_index'}, inplace=True)\n",
        "  \n",
        "  song_codes['so_index_value'] = list(song_codes.index)\n",
        "  user_codes['us_index_value'] = list(user_codes.index)\n",
        "\n",
        "  small_set = pd.merge(small_set,song_codes,how='left')\n",
        "  small_set = pd.merge(small_set,user_codes,how='left')\n",
        "\n",
        "  mat_candidate = small_set[['us_index_value','so_index_value','rating']]\n",
        "\n",
        "\n",
        "  df = mat_candidate.copy()\n",
        "\n",
        "  transform_matrix = np.zeros((len(user_codes), len(song_codes)))\n",
        "  for i in range(df.shape[0]):\n",
        "    transform_matrix[df['us_index_value'][i]][df['so_index_value'][i]] = df['rating'][i]\n",
        "  origin_matrix = transform_matrix.copy()\n",
        "  test_idx = random.sample(list(range(df.shape[0])), int(df.shape[0]*0.2))\n",
        "  for i in range(len(test_idx)):\n",
        "    origin_matrix[df['us_index_value'][i]][df['so_index_value'][i]] = 0\n",
        "  for i in range(len(test_idx)):\n",
        "    estimated_rating = svdEst(origin_matrix, df['us_index_value'][i], cosSim, df['so_index_value'][i], 0.85)\n",
        "    origin_matrix[df['us_index_value'][i]][df['so_index_value'][i]] = estimated_rating\n",
        "  \n",
        "  mae = 0\n",
        "  count = 0\n",
        "  for i in range(len(test_idx)):\n",
        "    mae += transform_matrix[df['us_index_value'][i]][df['so_index_value'][i]] - origin_matrix[df['us_index_value'][i]][df['so_index_value'][i]]\n",
        "    count += 1\n",
        "  mae /= count\n",
        "  print(\"{} has MAE {}\".format(df_name[p], mae))"
      ],
      "execution_count": 49,
      "outputs": [
        {
          "output_type": "stream",
          "text": [
            "rating_sparse has MAE 0.48105134036393543\n",
            "rating_dense has MAE 0.8809364798235082\n"
          ],
          "name": "stdout"
        }
      ]
    },
    {
      "cell_type": "markdown",
      "metadata": {
        "id": "gOy6QkZnFsd9"
      },
      "source": [
        "# Using Sklearn"
      ]
    },
    {
      "cell_type": "code",
      "metadata": {
        "id": "E2CKyjgnhQOQ"
      },
      "source": [
        "rating_sample_copy = rating_sample.copy()\n",
        "rating_small_copy = rating_small.copy()\n",
        "rating_large_copy = rating_large.copy()"
      ],
      "execution_count": 50,
      "outputs": []
    },
    {
      "cell_type": "code",
      "metadata": {
        "id": "iBETt7XbGHbu"
      },
      "source": [
        "for dataset in [rating_sample_copy, rating_small_copy, rating_large_copy]:\n",
        "  for col in [\"user\", \"item\"]:\n",
        "    selCol = dataset[col]\n",
        "    for i in range(len(selCol)):\n",
        "      temp = ''\n",
        "      for c in selCol[i]:\n",
        "        if c.isdigit():\n",
        "          temp += c\n",
        "        else:\n",
        "          temp += str(ord(c))\n",
        "      selCol[i] = temp"
      ],
      "execution_count": 51,
      "outputs": []
    },
    {
      "cell_type": "code",
      "metadata": {
        "colab": {
          "base_uri": "https://localhost:8080/"
        },
        "id": "9L5vM3VdGQcy",
        "outputId": "4d212853-e59b-443f-880b-67c38b353d42"
      },
      "source": [
        "from sklearn.model_selection import train_test_split\n",
        "from sklearn.svm import LinearSVC\n",
        "from sklearn.linear_model import LogisticRegression\n",
        "from sklearn.ensemble import RandomForestClassifier\n",
        "from sklearn.neural_network import MLPClassifier\n",
        "for selected_data in [rating_sample_copy, rating_small_copy, rating_large_copy]:\n",
        "  x_trainML = selected_data[[\"user\",\"item\"]]\n",
        "  y_trainML = selected_data[\"rating\"]\n",
        "  X_train, X_test, y_train, y_test =sklearn.model_selection.train_test_split(x_trainML, y_trainML, test_size=0.25)\n",
        "\n",
        "  selected_algorithm = [LinearSVC(), RandomForestClassifier(), MLPClassifier()]\n",
        "  algorithm_name = [\"LinearSVC()\", \"RandomForestClassifier()\", \"MLPClassifier()\"]\n",
        "\n",
        "  # from surprise import accuracy\n",
        "  # reader = Reader(rating_scale=(1, 5))\n",
        "  # trainset = X_train\n",
        "  # testset = X_test\n",
        "  for i in range(len(selected_algorithm)):\n",
        "    algo = selected_algorithm[i]\n",
        "    name = algorithm_name[i]\n",
        "    algo.fit(X_train, y_train)\n",
        "    predictions = algo.predict(X_test)\n",
        "    print('{} has mae {}'.format(name, sklearn.metrics.mean_absolute_error(y_test, predictions, multioutput='uniform_average')))"
      ],
      "execution_count": 52,
      "outputs": [
        {
          "output_type": "stream",
          "text": [
            "LinearSVC() has mae 0.9088995215311004\n",
            "RandomForestClassifier() has mae 0.5619138755980861\n",
            "MLPClassifier() has mae 1.725933014354067\n",
            "LinearSVC() has mae 0.8221734357848518\n",
            "RandomForestClassifier() has mae 0.6331503841931942\n",
            "MLPClassifier() has mae 0.8230515916575192\n",
            "LinearSVC() has mae 0.6681450057848053\n",
            "RandomForestClassifier() has mae 0.5673929811029695\n",
            "MLPClassifier() has mae 0.6796182028538372\n"
          ],
          "name": "stdout"
        }
      ]
    },
    {
      "cell_type": "markdown",
      "metadata": {
        "id": "7LMgbz1CGZle"
      },
      "source": [
        "# Using tfidf"
      ]
    },
    {
      "cell_type": "code",
      "metadata": {
        "id": "5_ef0iWYGZ3a"
      },
      "source": [
        "import json\n",
        "data = []\n",
        "with open(\"Digital_Music_5.json\",'r') as load_f:\n",
        "    temp = load_f.readline()\n",
        "    while temp:\n",
        "        row = []\n",
        "        temp = json.loads(temp)\n",
        "        row.append(temp['asin'])\n",
        "        row.append(temp['reviewText'])\n",
        "        row.append(temp['overall'])\n",
        "        data.append(row)\n",
        "        temp = load_f.readline()\n",
        "#     break"
      ],
      "execution_count": null,
      "outputs": []
    },
    {
      "cell_type": "code",
      "metadata": {
        "id": "J0OtdxPMGdUF"
      },
      "source": [
        "comments_df = pd.DataFrame(data=data,columns=['item', 'review', 'rating'])\n",
        "x_trainML = comments_df[\"review\"]\n",
        "y_trainML = comments_df[\"rating\"]\n",
        "X_train, X_test, y_train, y_test =sklearn.model_selection.train_test_split(x_trainML, y_trainML, test_size=0.25)"
      ],
      "execution_count": null,
      "outputs": []
    },
    {
      "cell_type": "code",
      "metadata": {
        "id": "gUAAbHTFGf50"
      },
      "source": [
        "from sklearn.feature_extraction.text import TfidfVectorizer\n",
        "vectorizer = TfidfVectorizer(analyzer = \"word\",  preprocessor = None, encoding='utf-8', ngram_range=(1, 4), sublinear_tf = True)\n",
        "documentsVectors = vectorizer.fit_transform(x_trainML)"
      ],
      "execution_count": null,
      "outputs": []
    },
    {
      "cell_type": "code",
      "metadata": {
        "id": "PHhdDVxtGhAT"
      },
      "source": [
        "from sklearn import svm\n",
        "size1 = len(X_train)\n",
        "clf = svm.LinearSVC(C = 2.0)\n",
        "clf.fit(documentsVectors[0:size1],y_train[0:size1])\n",
        "prediction = clf.predict(documentsVectors[size1:])"
      ],
      "execution_count": null,
      "outputs": []
    },
    {
      "cell_type": "code",
      "metadata": {
        "id": "GxMEBsG8GiO4"
      },
      "source": [
        "sum = 0\n",
        "for truth, pred in zip(y_test, prediction):\n",
        "    sum += abs(truth-pred)\n",
        "print('The mae is {}'.format(sum/len(prediction)))"
      ],
      "execution_count": null,
      "outputs": []
    }
  ]
}