{
 "cells": [
  {
   "cell_type": "markdown",
   "metadata": {
    "id": "OJkWaeFcLf78"
   },
   "source": [
    "# Load Package"
   ]
  },
  {
   "cell_type": "code",
   "execution_count": 1,
   "metadata": {
    "ExecuteTime": {
     "end_time": "2020-11-29T08:46:10.739855Z",
     "start_time": "2020-11-29T08:46:09.807022Z"
    },
    "colab": {
     "base_uri": "https://localhost:8080/"
    },
    "id": "7VINw8GPLiYh",
    "outputId": "78b1473a-4137-4c5f-e66a-4494e751dcdf"
   },
   "outputs": [],
   "source": [
    "# !pip install -U scikit-learn\n",
    "# !pip install surprise\n",
    "# !pip install networkx\n",
    "import pandas as pd\n",
    "import numpy as np\n",
    "import seaborn as sns\n",
    "import random\n",
    "import matplotlib.pyplot as plt\n",
    "import scipy\n",
    "import sklearn\n",
    "from sklearn.metrics import classification_report, confusion_matrix\n",
    "from sklearn.ensemble import RandomForestClassifier\n",
    "from sklearn.model_selection import train_test_split\n",
    "from sklearn import metrics\n",
    "from tqdm import tqdm\n",
    "import warnings\n",
    "# import networkx as nx\n",
    "# warnings.filterwarnings('ignore')\n",
    "# from surprise import SVD, SVDpp, SlopeOne, NMF, NormalPredictor, KNNBaseline, KNNBasic, KNNWithMeans, KNNWithZScore, BaselineOnly, CoClustering\n",
    "# from surprise.model_selection import cross_validate\n",
    "# from surprise import NormalPredictor\n",
    "# from surprise import Dataset\n",
    "# from surprise import Reader"
   ]
  },
  {
   "cell_type": "markdown",
   "metadata": {
    "id": "bogLOnXmLa-T"
   },
   "source": [
    "# Load Data"
   ]
  },
  {
   "cell_type": "code",
   "execution_count": 2,
   "metadata": {
    "ExecuteTime": {
     "end_time": "2020-11-29T08:46:15.143190Z",
     "start_time": "2020-11-29T08:46:14.703466Z"
    },
    "id": "_Vpawx_5LVEY"
   },
   "outputs": [],
   "source": [
    "ratings_Digital_Music= pd.read_csv('ratings_Digital_Music.csv', names=[\"user\",\"item\",\"rating\",\"timestamp\"])"
   ]
  },
  {
   "cell_type": "code",
   "execution_count": 3,
   "metadata": {
    "ExecuteTime": {
     "end_time": "2020-11-29T08:46:15.158204Z",
     "start_time": "2020-11-29T08:46:15.149196Z"
    },
    "id": "H3cBKJOcL_8N"
   },
   "outputs": [
    {
     "data": {
      "text/html": [
       "<div>\n",
       "<style scoped>\n",
       "    .dataframe tbody tr th:only-of-type {\n",
       "        vertical-align: middle;\n",
       "    }\n",
       "\n",
       "    .dataframe tbody tr th {\n",
       "        vertical-align: top;\n",
       "    }\n",
       "\n",
       "    .dataframe thead th {\n",
       "        text-align: right;\n",
       "    }\n",
       "</style>\n",
       "<table border=\"1\" class=\"dataframe\">\n",
       "  <thead>\n",
       "    <tr style=\"text-align: right;\">\n",
       "      <th></th>\n",
       "      <th>user</th>\n",
       "      <th>item</th>\n",
       "      <th>rating</th>\n",
       "      <th>timestamp</th>\n",
       "    </tr>\n",
       "  </thead>\n",
       "  <tbody>\n",
       "    <tr>\n",
       "      <th>0</th>\n",
       "      <td>A2EFCYXHNK06IS</td>\n",
       "      <td>5555991584</td>\n",
       "      <td>5.0</td>\n",
       "      <td>978480000</td>\n",
       "    </tr>\n",
       "    <tr>\n",
       "      <th>1</th>\n",
       "      <td>A1WR23ER5HMAA9</td>\n",
       "      <td>5555991584</td>\n",
       "      <td>5.0</td>\n",
       "      <td>953424000</td>\n",
       "    </tr>\n",
       "    <tr>\n",
       "      <th>2</th>\n",
       "      <td>A2IR4Q0GPAFJKW</td>\n",
       "      <td>5555991584</td>\n",
       "      <td>4.0</td>\n",
       "      <td>1393545600</td>\n",
       "    </tr>\n",
       "    <tr>\n",
       "      <th>3</th>\n",
       "      <td>A2V0KUVAB9HSYO</td>\n",
       "      <td>5555991584</td>\n",
       "      <td>4.0</td>\n",
       "      <td>966124800</td>\n",
       "    </tr>\n",
       "    <tr>\n",
       "      <th>4</th>\n",
       "      <td>A1J0GL9HCA7ELW</td>\n",
       "      <td>5555991584</td>\n",
       "      <td>5.0</td>\n",
       "      <td>1007683200</td>\n",
       "    </tr>\n",
       "  </tbody>\n",
       "</table>\n",
       "</div>"
      ],
      "text/plain": [
       "             user        item  rating   timestamp\n",
       "0  A2EFCYXHNK06IS  5555991584     5.0   978480000\n",
       "1  A1WR23ER5HMAA9  5555991584     5.0   953424000\n",
       "2  A2IR4Q0GPAFJKW  5555991584     4.0  1393545600\n",
       "3  A2V0KUVAB9HSYO  5555991584     4.0   966124800\n",
       "4  A1J0GL9HCA7ELW  5555991584     5.0  1007683200"
      ]
     },
     "execution_count": 3,
     "metadata": {},
     "output_type": "execute_result"
    }
   ],
   "source": [
    "ratings_Digital_Music.head()"
   ]
  },
  {
   "cell_type": "code",
   "execution_count": 4,
   "metadata": {
    "ExecuteTime": {
     "end_time": "2020-11-29T08:46:15.956343Z",
     "start_time": "2020-11-29T08:46:15.796197Z"
    },
    "colab": {
     "base_uri": "https://localhost:8080/"
    },
    "id": "saATVELgMBmg",
    "outputId": "604cc5b1-39c2-4a17-fa42-a9363a9a3119"
   },
   "outputs": [
    {
     "name": "stdout",
     "output_type": "stream",
     "text": [
      "There are 478235 users, 836006 ratings, 266414 items.\n"
     ]
    }
   ],
   "source": [
    "print(\"There are {} users, {} ratings, {} items.\".format(len(ratings_Digital_Music[\"user\"].unique()), ratings_Digital_Music.shape[0], len(ratings_Digital_Music[\"item\"].unique())))"
   ]
  },
  {
   "cell_type": "code",
   "execution_count": 5,
   "metadata": {
    "ExecuteTime": {
     "end_time": "2020-11-29T08:46:16.934988Z",
     "start_time": "2020-11-29T08:46:16.548201Z"
    },
    "colab": {
     "base_uri": "https://localhost:8080/",
     "height": 204
    },
    "id": "cGOiCB5JzP-Y",
    "outputId": "5b0ec5d2-4063-4837-a6c6-513c49ce0d02"
   },
   "outputs": [
    {
     "data": {
      "text/html": [
       "<div>\n",
       "<style scoped>\n",
       "    .dataframe tbody tr th:only-of-type {\n",
       "        vertical-align: middle;\n",
       "    }\n",
       "\n",
       "    .dataframe tbody tr th {\n",
       "        vertical-align: top;\n",
       "    }\n",
       "\n",
       "    .dataframe thead th {\n",
       "        text-align: right;\n",
       "    }\n",
       "</style>\n",
       "<table border=\"1\" class=\"dataframe\">\n",
       "  <thead>\n",
       "    <tr style=\"text-align: right;\">\n",
       "      <th></th>\n",
       "      <th>user</th>\n",
       "      <th>count</th>\n",
       "    </tr>\n",
       "  </thead>\n",
       "  <tbody>\n",
       "    <tr>\n",
       "      <th>0</th>\n",
       "      <td>A3W4D8XOGLWUN5</td>\n",
       "      <td>1126</td>\n",
       "    </tr>\n",
       "    <tr>\n",
       "      <th>1</th>\n",
       "      <td>A9Q28YTLYREO7</td>\n",
       "      <td>713</td>\n",
       "    </tr>\n",
       "    <tr>\n",
       "      <th>2</th>\n",
       "      <td>ABDR6IJ93HFIO</td>\n",
       "      <td>489</td>\n",
       "    </tr>\n",
       "    <tr>\n",
       "      <th>3</th>\n",
       "      <td>A3HU0B9XUEVHIM</td>\n",
       "      <td>471</td>\n",
       "    </tr>\n",
       "    <tr>\n",
       "      <th>4</th>\n",
       "      <td>A1GN8UJIZLCA59</td>\n",
       "      <td>427</td>\n",
       "    </tr>\n",
       "  </tbody>\n",
       "</table>\n",
       "</div>"
      ],
      "text/plain": [
       "             user  count\n",
       "0  A3W4D8XOGLWUN5   1126\n",
       "1   A9Q28YTLYREO7    713\n",
       "2   ABDR6IJ93HFIO    489\n",
       "3  A3HU0B9XUEVHIM    471\n",
       "4  A1GN8UJIZLCA59    427"
      ]
     },
     "execution_count": 5,
     "metadata": {},
     "output_type": "execute_result"
    }
   ],
   "source": [
    "# user_count = pd.DataFrame(ratings_Digital_Music.value_counts(subset=[\"user\"]), columns=[\"count\"])\n",
    "# user_count.reset_index(drop=False, inplace=True)\n",
    "# user_count.head()\n",
    "user_count = pd.DataFrame(ratings_Digital_Music[\"user\"].value_counts())\n",
    "user_count.reset_index(drop=False, inplace=True)\n",
    "user_count.columns = ['user','count']\n",
    "user_count.head()"
   ]
  },
  {
   "cell_type": "code",
   "execution_count": 6,
   "metadata": {
    "ExecuteTime": {
     "end_time": "2020-11-29T08:46:18.325660Z",
     "start_time": "2020-11-29T08:46:18.317652Z"
    },
    "id": "EVvmkWR31ylL"
   },
   "outputs": [],
   "source": [
    "valid_user = user_count[user_count[\"count\"] >= 10].user.tolist()"
   ]
  },
  {
   "cell_type": "markdown",
   "metadata": {
    "id": "nkJv7VsSwp4_"
   },
   "source": [
    "# Simplify Data"
   ]
  },
  {
   "cell_type": "code",
   "execution_count": 7,
   "metadata": {
    "ExecuteTime": {
     "end_time": "2020-11-29T08:46:22.918055Z",
     "start_time": "2020-11-29T08:46:22.881441Z"
    },
    "colab": {
     "base_uri": "https://localhost:8080/"
    },
    "id": "GJhfwWYcw1bv",
    "outputId": "6adb9cd5-ccdb-4470-a682-583f75c0196c"
   },
   "outputs": [
    {
     "name": "stdout",
     "output_type": "stream",
     "text": [
      "There are 19524 users, 20900 ratings, 14946 items.\n"
     ]
    }
   ],
   "source": [
    "rating_sample = ratings_Digital_Music.sample(frac=0.025, replace=False, random_state=1)\n",
    "rating_sample.reset_index(drop=True, inplace=True)\n",
    "print(\"There are {} users, {} ratings, {} items.\".format(len(rating_sample[\"user\"].unique()), rating_sample.shape[0], len(rating_sample[\"item\"].unique())))"
   ]
  },
  {
   "cell_type": "code",
   "execution_count": 8,
   "metadata": {
    "ExecuteTime": {
     "end_time": "2020-11-29T08:46:23.429831Z",
     "start_time": "2020-11-29T08:46:23.380085Z"
    },
    "id": "E2MJPUdZ2mJ6"
   },
   "outputs": [],
   "source": [
    "rating_valid = ratings_Digital_Music[ratings_Digital_Music[\"user\"].isin(valid_user)]"
   ]
  },
  {
   "cell_type": "code",
   "execution_count": 9,
   "metadata": {
    "ExecuteTime": {
     "end_time": "2020-11-29T08:46:23.897164Z",
     "start_time": "2020-11-29T08:46:23.877139Z"
    },
    "colab": {
     "base_uri": "https://localhost:8080/",
     "height": 204
    },
    "id": "8Tm-r0Wn2_lB",
    "outputId": "2c3a0efa-94f3-4a09-c7ed-f93213bd71e8"
   },
   "outputs": [
    {
     "data": {
      "text/html": [
       "<div>\n",
       "<style scoped>\n",
       "    .dataframe tbody tr th:only-of-type {\n",
       "        vertical-align: middle;\n",
       "    }\n",
       "\n",
       "    .dataframe tbody tr th {\n",
       "        vertical-align: top;\n",
       "    }\n",
       "\n",
       "    .dataframe thead th {\n",
       "        text-align: right;\n",
       "    }\n",
       "</style>\n",
       "<table border=\"1\" class=\"dataframe\">\n",
       "  <thead>\n",
       "    <tr style=\"text-align: right;\">\n",
       "      <th></th>\n",
       "      <th>user</th>\n",
       "      <th>item</th>\n",
       "      <th>rating</th>\n",
       "      <th>timestamp</th>\n",
       "    </tr>\n",
       "  </thead>\n",
       "  <tbody>\n",
       "    <tr>\n",
       "      <th>0</th>\n",
       "      <td>A3EBHHCZO6V2A4</td>\n",
       "      <td>5555991584</td>\n",
       "      <td>5.0</td>\n",
       "      <td>1158019200</td>\n",
       "    </tr>\n",
       "    <tr>\n",
       "      <th>1</th>\n",
       "      <td>AZPWAXJG9OJXV</td>\n",
       "      <td>5555991584</td>\n",
       "      <td>5.0</td>\n",
       "      <td>991526400</td>\n",
       "    </tr>\n",
       "    <tr>\n",
       "      <th>2</th>\n",
       "      <td>A38IRL0X2T4DPF</td>\n",
       "      <td>5555991584</td>\n",
       "      <td>5.0</td>\n",
       "      <td>1058140800</td>\n",
       "    </tr>\n",
       "    <tr>\n",
       "      <th>3</th>\n",
       "      <td>A2P49WD75WHAG5</td>\n",
       "      <td>5555991584</td>\n",
       "      <td>5.0</td>\n",
       "      <td>1059523200</td>\n",
       "    </tr>\n",
       "    <tr>\n",
       "      <th>4</th>\n",
       "      <td>A3O90G1D7I5EGG</td>\n",
       "      <td>5555991584</td>\n",
       "      <td>3.0</td>\n",
       "      <td>959385600</td>\n",
       "    </tr>\n",
       "  </tbody>\n",
       "</table>\n",
       "</div>"
      ],
      "text/plain": [
       "             user        item  rating   timestamp\n",
       "0  A3EBHHCZO6V2A4  5555991584     5.0  1158019200\n",
       "1   AZPWAXJG9OJXV  5555991584     5.0   991526400\n",
       "2  A38IRL0X2T4DPF  5555991584     5.0  1058140800\n",
       "3  A2P49WD75WHAG5  5555991584     5.0  1059523200\n",
       "4  A3O90G1D7I5EGG  5555991584     3.0   959385600"
      ]
     },
     "execution_count": 9,
     "metadata": {},
     "output_type": "execute_result"
    }
   ],
   "source": [
    "rating_valid.reset_index(drop=True, inplace=True)\n",
    "rating_valid.head()"
   ]
  },
  {
   "cell_type": "markdown",
   "metadata": {
    "heading_collapsed": true,
    "id": "fG_-e3meNWcn"
   },
   "source": [
    "# Using Surprise Package"
   ]
  },
  {
   "cell_type": "code",
   "execution_count": null,
   "metadata": {
    "colab": {
     "base_uri": "https://localhost:8080/"
    },
    "hidden": true,
    "id": "8AQL7PKCMjiC",
    "outputId": "8476f83b-a4b7-4176-e9cd-e2c9b97c3bad"
   },
   "outputs": [
    {
     "name": "stdout",
     "output_type": "stream",
     "text": [
      "{'test_rmse': array([1.21184112, 1.20051926]), 'test_mae': array([0.84248393, 0.82229975]), 'fit_time': (0.016071557998657227, 0.019555091857910156), 'test_time': (0.09179949760437012, 0.3361515998840332)}\n",
      "MAE:  0.6790\n",
      "SVDpp() has MAE 0.6789973377071562\n",
      "Estimating biases using als...\n",
      "Computing the msd similarity matrix...\n",
      "Done computing similarity matrix.\n",
      "MAE:  0.6824\n",
      "KNNBaseline() has MAE 0.6823752015753572\n",
      "Computing the msd similarity matrix...\n",
      "Done computing similarity matrix.\n",
      "MAE:  0.6866\n",
      "KNNWithZScore() has MAE 0.6866204848063322\n",
      "{'test_rmse': array([1.17699171, 1.18836502]), 'test_mae': array([0.84946855, 0.85947937]), 'fit_time': (0.11156797409057617, 0.1468977928161621), 'test_time': (0.5313498973846436, 0.7437963485717773)}\n",
      "MAE:  0.5249\n",
      "SVDpp() has MAE 0.5248613731088184\n",
      "Estimating biases using als...\n",
      "Computing the msd similarity matrix...\n",
      "Done computing similarity matrix.\n",
      "MAE:  0.5772\n",
      "KNNBaseline() has MAE 0.5771630655719845\n",
      "Computing the msd similarity matrix...\n",
      "Done computing similarity matrix.\n",
      "MAE:  0.6143\n",
      "KNNWithZScore() has MAE 0.6142836192863783\n"
     ]
    }
   ],
   "source": [
    "for selected_data in [rating_sample, rating_valid]:\n",
    "  reader = Reader(rating_scale=(1, 5))\n",
    "  data = Dataset.load_from_df(selected_data[[\"user\",\"item\",\"rating\"]], reader)\n",
    "  print(cross_validate(NormalPredictor(), data, cv=2))\n",
    "\n",
    "  dataset = data.build_full_trainset()\n",
    "  from surprise.model_selection import train_test_split\n",
    "  X_train, X_test = train_test_split(data, test_size=0.25)\n",
    "\n",
    "  selected_algorithm = [SVDpp(), KNNBaseline(), KNNWithZScore()]\n",
    "  algorithm_name = ['SVDpp()', 'KNNBaseline()', 'KNNWithZScore()']\n",
    "\n",
    "  from surprise import accuracy\n",
    "  reader = Reader(rating_scale=(1, 5))\n",
    "  trainset = X_train\n",
    "  testset = X_test\n",
    "  for i in range(len(selected_algorithm)):\n",
    "    algo = selected_algorithm[i]\n",
    "    name = algorithm_name[i]\n",
    "    predictions = algo.fit(trainset).test(testset)\n",
    "    print('{} has MAE {}'.format(name, accuracy.mae(predictions)))"
   ]
  },
  {
   "cell_type": "markdown",
   "metadata": {
    "heading_collapsed": true,
    "id": "-rhIybc1RiL3"
   },
   "source": [
    "# Using SVD"
   ]
  },
  {
   "cell_type": "code",
   "execution_count": null,
   "metadata": {
    "hidden": true,
    "id": "y75OfgIsSVjs"
   },
   "outputs": [],
   "source": [
    "def compute_svd(urm, K):\n",
    "    U, s, Vt = svds(urm, K)\n",
    " \n",
    "    dim = (len(s), len(s))\n",
    "    S = np.zeros(dim, dtype=np.float32)\n",
    "    for i in range(0, len(s)):\n",
    "        S[i,i] = mt.sqrt(s[i])\n",
    " \n",
    "    U = csc_matrix(U, dtype=np.float32)\n",
    "    S = csc_matrix(S, dtype=np.float32)\n",
    "    Vt = csc_matrix(Vt, dtype=np.float32)\n",
    "    \n",
    "    return U, S, Vt\n",
    "\n",
    "def compute_estimated_matrix(urm, U, S, Vt, uTest, K, test):\n",
    "    rightTerm = S*Vt \n",
    "    max_recommendation = 250\n",
    "    estimatedRatings = np.zeros(shape=(MAX_UID, MAX_PID), dtype=np.float16)\n",
    "    recomendRatings = np.zeros(shape=(MAX_UID,max_recommendation ), dtype=np.float16)\n",
    "    for userTest in uTest:\n",
    "        prod = U[userTest, :]*rightTerm\n",
    "        estimatedRatings[userTest, :] = prod.todense()\n",
    "        recomendRatings[userTest, :] = (-estimatedRatings[userTest, :]).argsort()[:max_recommendation]\n",
    "    return estimatedRatings, recomendRatings\n"
   ]
  },
  {
   "cell_type": "code",
   "execution_count": null,
   "metadata": {
    "colab": {
     "base_uri": "https://localhost:8080/"
    },
    "hidden": true,
    "id": "NtN_MPS5PAuN",
    "outputId": "ebf5637a-dab2-401f-d2bd-b6957369ae07"
   },
   "outputs": [
    {
     "name": "stdout",
     "output_type": "stream",
     "text": [
      "4.511244019138756\n",
      "4.449877449120132\n"
     ]
    }
   ],
   "source": [
    "from scipy.sparse import coo_matrix\n",
    "import math as mt\n",
    "from scipy.sparse.linalg import * #used for matrix multiplication\n",
    "from scipy.sparse.linalg import svds\n",
    "from scipy.sparse import csc_matrix\n",
    "\n",
    "df_set = [rating_sample, rating_valid, ratings_Digital_Music]\n",
    "\n",
    "for small_set in df_set:\n",
    "  user_codes = small_set.user.drop_duplicates().reset_index()\n",
    "  song_codes = small_set.item.drop_duplicates().reset_index()\n",
    "\n",
    "  user_codes.rename(columns={'index':'user_index'}, inplace=True)\n",
    "  song_codes.rename(columns={'index':'song_index'}, inplace=True)\n",
    "  \n",
    "  song_codes['so_index_value'] = list(song_codes.index)\n",
    "  user_codes['us_index_value'] = list(user_codes.index)\n",
    "\n",
    "  small_set = pd.merge(small_set,song_codes,how='left')\n",
    "  small_set = pd.merge(small_set,user_codes,how='left')\n",
    "\n",
    "  mat_candidate = small_set[['us_index_value','so_index_value','rating']]\n",
    "\n",
    "  df = mat_candidate\n",
    "  train, test = train_test_split(df, test_size=0.2, random_state=42, shuffle=True)\n",
    "  data_array = train.rating.values\n",
    "  row_array = train.us_index_value.values\n",
    "  col_array = train.so_index_value.values\n",
    "\n",
    "  data_sparse = coo_matrix((data_array, (row_array, col_array)),dtype=float)\n",
    "\n",
    "  K=10\n",
    "  urm = data_sparse\n",
    "  MAX_PID = urm.shape[1]\n",
    "  MAX_UID = urm.shape[0]\n",
    "\n",
    "  U, S, Vt = compute_svd(urm, K)\n",
    "  uTest = test.us_index_value.tolist()\n",
    "  uTest_estimated_ratings, uTest_recommended_items = compute_estimated_matrix(urm, U, S, Vt, uTest, K, True)\n",
    "\n",
    "  test_data_array = test.rating.values\n",
    "  test_row_array = test.us_index_value.values\n",
    "  test_col_array = test.so_index_value.values\n",
    "\n",
    "  mae = 0\n",
    "  for i in range(len(test_row_array)):\n",
    "    r = test_row_array[i]\n",
    "    c = test_col_array[i]\n",
    "    try:\n",
    "      mae += abs(uTest_estimated_ratings[r, c]-test_data_array[i])\n",
    "    except:\n",
    "      continue\n",
    "  mae /= len(test_row_array)\n",
    "  print(mae)"
   ]
  },
  {
   "cell_type": "markdown",
   "metadata": {
    "id": "pVFPCtrr131K"
   },
   "source": [
    "# Using Sklearn"
   ]
  },
  {
   "cell_type": "code",
   "execution_count": 10,
   "metadata": {
    "ExecuteTime": {
     "end_time": "2020-11-29T08:46:27.216116Z",
     "start_time": "2020-11-29T08:46:27.205106Z"
    },
    "id": "W24oL2_BEFrm"
   },
   "outputs": [],
   "source": [
    "rating_sample_copy = rating_sample.copy()\n",
    "rating_valid_copy = rating_valid.copy()"
   ]
  },
  {
   "cell_type": "code",
   "execution_count": 11,
   "metadata": {
    "ExecuteTime": {
     "end_time": "2020-11-29T08:48:15.706867Z",
     "start_time": "2020-11-29T08:46:27.699552Z"
    },
    "id": "0l5Ri0kgEQyL"
   },
   "outputs": [
    {
     "name": "stderr",
     "output_type": "stream",
     "text": [
      "<ipython-input-11-e480f6e6f152>:11: SettingWithCopyWarning: \n",
      "A value is trying to be set on a copy of a slice from a DataFrame\n",
      "\n",
      "See the caveats in the documentation: https://pandas.pydata.org/pandas-docs/stable/user_guide/indexing.html#returning-a-view-versus-a-copy\n",
      "  selCol[i] = temp\n"
     ]
    }
   ],
   "source": [
    "for dataset in [rating_sample_copy, rating_valid_copy]:\n",
    "  for col in [\"user\", \"item\"]:\n",
    "    selCol = dataset[col]\n",
    "    for i in range(len(selCol)):\n",
    "      temp = ''\n",
    "      for c in selCol[i]:\n",
    "        if c.isdigit():\n",
    "          temp += c\n",
    "        else:\n",
    "          temp += str(ord(c))\n",
    "      selCol[i] = temp\n",
    "  # for i in range(len(item)):\n",
    "  #   temp = ''\n",
    "  #   for c in item[i]:\n",
    "  #     if c.isdigit():\n",
    "  #       temp += c\n",
    "  #     else:\n",
    "  #       temp += str(ord(c))\n",
    "  #   item[i] = temp"
   ]
  },
  {
   "cell_type": "code",
   "execution_count": 12,
   "metadata": {
    "ExecuteTime": {
     "end_time": "2020-11-29T08:49:32.938312Z",
     "start_time": "2020-11-29T08:48:56.520066Z"
    },
    "colab": {
     "base_uri": "https://localhost:8080/",
     "height": 245
    },
    "id": "XMkfiRbGDmzW",
    "outputId": "b6007054-fbcc-4989-d7b6-b06549c1b191"
   },
   "outputs": [
    {
     "name": "stderr",
     "output_type": "stream",
     "text": [
      "C:\\Users\\Qminjia\\anaconda3\\lib\\site-packages\\sklearn\\svm\\_base.py:976: ConvergenceWarning: Liblinear failed to converge, increase the number of iterations.\n",
      "  warnings.warn(\"Liblinear failed to converge, increase \"\n"
     ]
    },
    {
     "name": "stdout",
     "output_type": "stream",
     "text": [
      "LinearSVC() has mae 2.4088038277511963\n",
      "RandomForestClassifier() has mae 0.5431578947368421\n",
      "MLPClassifier() has mae 1.731866028708134\n"
     ]
    },
    {
     "name": "stderr",
     "output_type": "stream",
     "text": [
      "C:\\Users\\Qminjia\\anaconda3\\lib\\site-packages\\sklearn\\svm\\_base.py:976: ConvergenceWarning: Liblinear failed to converge, increase the number of iterations.\n",
      "  warnings.warn(\"Liblinear failed to converge, increase \"\n"
     ]
    },
    {
     "name": "stdout",
     "output_type": "stream",
     "text": [
      "LinearSVC() has mae 0.538958180484226\n",
      "RandomForestClassifier() has mae 0.5608217168011739\n",
      "MLPClassifier() has mae 1.6174614820249449\n"
     ]
    }
   ],
   "source": [
    "from sklearn.model_selection import train_test_split\n",
    "from sklearn.svm import LinearSVC\n",
    "from sklearn.linear_model import LogisticRegression\n",
    "from sklearn.ensemble import RandomForestClassifier\n",
    "from sklearn.neural_network import MLPClassifier\n",
    "for selected_data in [rating_sample_copy, rating_valid_copy]:\n",
    "  x_trainML = selected_data[[\"user\",\"item\"]]\n",
    "  y_trainML = selected_data[\"rating\"]\n",
    "  X_train, X_test, y_train, y_test =sklearn.model_selection.train_test_split(x_trainML, y_trainML, test_size=0.25)\n",
    "\n",
    "  selected_algorithm = [LinearSVC(), RandomForestClassifier(), MLPClassifier()]\n",
    "  algorithm_name = [\"LinearSVC()\", \"RandomForestClassifier()\", \"MLPClassifier()\"]\n",
    "\n",
    "  # from surprise import accuracy\n",
    "  # reader = Reader(rating_scale=(1, 5))\n",
    "  # trainset = X_train\n",
    "  # testset = X_test\n",
    "  for i in range(len(selected_algorithm)):\n",
    "    algo = selected_algorithm[i]\n",
    "    name = algorithm_name[i]\n",
    "    algo.fit(X_train, y_train)\n",
    "    predictions = algo.predict(X_test)\n",
    "    print('{} has mae {}'.format(name, sklearn.metrics.mean_absolute_error(y_test, predictions, multioutput='uniform_average')))"
   ]
  },
  {
   "cell_type": "markdown",
   "metadata": {
    "colab": {
     "base_uri": "https://localhost:8080/"
    },
    "id": "2CBc1ae_-eOA",
    "outputId": "7b52c4fc-6613-442c-fd60-59ed851561a3"
   },
   "source": [
    "# Using tfidf"
   ]
  },
  {
   "cell_type": "code",
   "execution_count": 1,
   "metadata": {
    "ExecuteTime": {
     "end_time": "2020-11-29T02:56:47.322358Z",
     "start_time": "2020-11-29T02:56:47.305342Z"
    },
    "id": "c5-xRQ5hF260"
   },
   "outputs": [],
   "source": [
    "import json"
   ]
  },
  {
   "cell_type": "code",
   "execution_count": 17,
   "metadata": {
    "ExecuteTime": {
     "end_time": "2020-11-29T03:21:48.016045Z",
     "start_time": "2020-11-29T03:21:47.154305Z"
    }
   },
   "outputs": [],
   "source": [
    "data = []\n",
    "with open(\"Digital_Music_5.json\",'r') as load_f:\n",
    "    temp = load_f.readline()\n",
    "    while temp:\n",
    "        row = []\n",
    "        temp = json.loads(temp)\n",
    "        row.append(temp['asin'])\n",
    "        row.append(temp['reviewText'])\n",
    "        row.append(temp['overall'])\n",
    "        data.append(row)\n",
    "        temp = load_f.readline()\n",
    "#     break"
   ]
  },
  {
   "cell_type": "code",
   "execution_count": 20,
   "metadata": {
    "ExecuteTime": {
     "end_time": "2020-11-29T03:40:15.142093Z",
     "start_time": "2020-11-29T03:40:15.103215Z"
    }
   },
   "outputs": [],
   "source": [
    "comments_df = pd.DataFrame(data=data,columns=['item', 'review', 'rating'])"
   ]
  },
  {
   "cell_type": "code",
   "execution_count": 25,
   "metadata": {
    "ExecuteTime": {
     "end_time": "2020-11-29T03:58:48.461804Z",
     "start_time": "2020-11-29T03:58:48.443788Z"
    }
   },
   "outputs": [],
   "source": [
    "x_trainML = comments_df[\"review\"]\n",
    "y_trainML = comments_df[\"rating\"]\n",
    "X_train, X_test, y_train, y_test =sklearn.model_selection.train_test_split(x_trainML, y_trainML, test_size=0.25)"
   ]
  },
  {
   "cell_type": "code",
   "execution_count": 28,
   "metadata": {
    "ExecuteTime": {
     "end_time": "2020-11-29T04:01:42.174717Z",
     "start_time": "2020-11-29T03:59:30.933954Z"
    }
   },
   "outputs": [],
   "source": [
    "from sklearn.feature_extraction.text import TfidfVectorizer\n",
    "vectorizer = TfidfVectorizer(analyzer = \"word\",  preprocessor = None, encoding='utf-8', ngram_range=(1, 4), sublinear_tf = True)\n",
    "documentsVectors = vectorizer.fit_transform(x_trainML)"
   ]
  },
  {
   "cell_type": "code",
   "execution_count": 30,
   "metadata": {
    "ExecuteTime": {
     "end_time": "2020-11-29T04:05:27.698234Z",
     "start_time": "2020-11-29T04:03:49.538879Z"
    }
   },
   "outputs": [],
   "source": [
    "from sklearn import svm\n",
    "size1 = len(X_train)\n",
    "clf = svm.LinearSVC(C = 2.0)\n",
    "clf.fit(documentsVectors[0:size1],y_train[0:size1])\n",
    "prediction = clf.predict(documentsVectors[size1:])"
   ]
  },
  {
   "cell_type": "code",
   "execution_count": 47,
   "metadata": {
    "ExecuteTime": {
     "end_time": "2020-11-29T05:18:14.520004Z",
     "start_time": "2020-11-29T05:18:14.500986Z"
    }
   },
   "outputs": [],
   "source": [
    "sum = 0\n",
    "for truth, pred in zip(y_test, prediction):\n",
    "    sum += abs(truth-pred)"
   ]
  },
  {
   "cell_type": "code",
   "execution_count": 49,
   "metadata": {
    "ExecuteTime": {
     "end_time": "2020-11-29T05:19:07.702807Z",
     "start_time": "2020-11-29T05:19:07.688794Z"
    }
   },
   "outputs": [
    {
     "name": "stdout",
     "output_type": "stream",
     "text": [
      "The mae is 0.7730110650924151\n"
     ]
    }
   ],
   "source": [
    "print('The mae is {}'.format(sum/len(prediction)))"
   ]
  },
  {
   "cell_type": "code",
   "execution_count": null,
   "metadata": {},
   "outputs": [],
   "source": []
  }
 ],
 "metadata": {
  "colab": {
   "collapsed_sections": [
    "fG_-e3meNWcn",
    "-rhIybc1RiL3"
   ],
   "name": "project.ipynb",
   "provenance": []
  },
  "kernelspec": {
   "display_name": "Python 3",
   "language": "python",
   "name": "python3"
  },
  "language_info": {
   "codemirror_mode": {
    "name": "ipython",
    "version": 3
   },
   "file_extension": ".py",
   "mimetype": "text/x-python",
   "name": "python",
   "nbconvert_exporter": "python",
   "pygments_lexer": "ipython3",
   "version": "3.8.3"
  },
  "toc": {
   "base_numbering": 1,
   "nav_menu": {},
   "number_sections": true,
   "sideBar": true,
   "skip_h1_title": false,
   "title_cell": "Table of Contents",
   "title_sidebar": "Contents",
   "toc_cell": false,
   "toc_position": {},
   "toc_section_display": true,
   "toc_window_display": false
  }
 },
 "nbformat": 4,
 "nbformat_minor": 1
}
